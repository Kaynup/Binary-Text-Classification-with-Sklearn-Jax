{
 "cells": [
  {
   "cell_type": "code",
   "execution_count": 4,
   "id": "10f45a5f-5494-4326-8ed5-0921ac93d9f0",
   "metadata": {},
   "outputs": [
    {
     "data": {
      "text/html": [
       "<div>\n",
       "<style scoped>\n",
       "    .dataframe tbody tr th:only-of-type {\n",
       "        vertical-align: middle;\n",
       "    }\n",
       "\n",
       "    .dataframe tbody tr th {\n",
       "        vertical-align: top;\n",
       "    }\n",
       "\n",
       "    .dataframe thead th {\n",
       "        text-align: right;\n",
       "    }\n",
       "</style>\n",
       "<table border=\"1\" class=\"dataframe\">\n",
       "  <thead>\n",
       "    <tr style=\"text-align: right;\">\n",
       "      <th></th>\n",
       "      <th>SentimentText</th>\n",
       "      <th>Sentiment</th>\n",
       "    </tr>\n",
       "  </thead>\n",
       "  <tbody>\n",
       "    <tr>\n",
       "      <th>0</th>\n",
       "      <td>is so sad for my APL frie...</td>\n",
       "      <td>0</td>\n",
       "    </tr>\n",
       "    <tr>\n",
       "      <th>1</th>\n",
       "      <td>I missed the New Moon trail...</td>\n",
       "      <td>0</td>\n",
       "    </tr>\n",
       "    <tr>\n",
       "      <th>2</th>\n",
       "      <td>omg its already 7:30 :O</td>\n",
       "      <td>1</td>\n",
       "    </tr>\n",
       "    <tr>\n",
       "      <th>3</th>\n",
       "      <td>.. Omgaga. Im sooo  im gunna CRy. I'...</td>\n",
       "      <td>0</td>\n",
       "    </tr>\n",
       "    <tr>\n",
       "      <th>4</th>\n",
       "      <td>i think mi bf is cheating on me!!!   ...</td>\n",
       "      <td>0</td>\n",
       "    </tr>\n",
       "    <tr>\n",
       "      <th>...</th>\n",
       "      <td>...</td>\n",
       "      <td>...</td>\n",
       "    </tr>\n",
       "    <tr>\n",
       "      <th>1578607</th>\n",
       "      <td>Zzzzzz.... Finally! Night tweeters!</td>\n",
       "      <td>1</td>\n",
       "    </tr>\n",
       "    <tr>\n",
       "      <th>1578608</th>\n",
       "      <td>Zzzzzzz, sleep well people</td>\n",
       "      <td>1</td>\n",
       "    </tr>\n",
       "    <tr>\n",
       "      <th>1578609</th>\n",
       "      <td>ZzzZzZzzzZ... wait no I have homework.</td>\n",
       "      <td>0</td>\n",
       "    </tr>\n",
       "    <tr>\n",
       "      <th>1578610</th>\n",
       "      <td>ZzZzzzZZZZzzz meh, what am I doing up again?</td>\n",
       "      <td>0</td>\n",
       "    </tr>\n",
       "    <tr>\n",
       "      <th>1578611</th>\n",
       "      <td>Zzzzzzzzzzzzzzzzzzz, I wish</td>\n",
       "      <td>0</td>\n",
       "    </tr>\n",
       "  </tbody>\n",
       "</table>\n",
       "<p>1578612 rows × 2 columns</p>\n",
       "</div>"
      ],
      "text/plain": [
       "                                             SentimentText  Sentiment\n",
       "0                             is so sad for my APL frie...          0\n",
       "1                           I missed the New Moon trail...          0\n",
       "2                                  omg its already 7:30 :O          1\n",
       "3                  .. Omgaga. Im sooo  im gunna CRy. I'...          0\n",
       "4                 i think mi bf is cheating on me!!!   ...          0\n",
       "...                                                    ...        ...\n",
       "1578607               Zzzzzz.... Finally! Night tweeters!           1\n",
       "1578608                        Zzzzzzz, sleep well people           1\n",
       "1578609            ZzzZzZzzzZ... wait no I have homework.           0\n",
       "1578610      ZzZzzzZZZZzzz meh, what am I doing up again?           0\n",
       "1578611                       Zzzzzzzzzzzzzzzzzzz, I wish           0\n",
       "\n",
       "[1578612 rows x 2 columns]"
      ]
     },
     "execution_count": 4,
     "metadata": {},
     "output_type": "execute_result"
    }
   ],
   "source": [
    "import pandas as pd\n",
    "import numpy as np\n",
    "import matplotlib.pyplot as plt\n",
    "import os\n",
    "\n",
    "from collections import Counter\n",
    "import re\n",
    "\n",
    "\n",
    "csv_path = os.path.join(\n",
    "    \"..\",\n",
    "    \"data\",\n",
    "    \"raw\",\n",
    "    \"Juggernaut Sentiment Analysis - by kaggle user Adeoluwa Adeboye.csv\"\n",
    ")\n",
    "\n",
    "data = pd.read_csv(csv_path, on_bad_lines='skip')\n",
    "data = data[['SentimentText', 'Sentiment']]\n",
    "data"
   ]
  },
  {
   "cell_type": "code",
   "execution_count": 5,
   "id": "caf51d7b-c15a-4f96-9fa5-53808e0a6207",
   "metadata": {},
   "outputs": [
    {
     "name": "stdout",
     "output_type": "stream",
     "text": [
      "<class 'pandas.core.frame.DataFrame'>\n",
      "RangeIndex: 1578612 entries, 0 to 1578611\n",
      "Data columns (total 2 columns):\n",
      " #   Column         Non-Null Count    Dtype \n",
      "---  ------         --------------    ----- \n",
      " 0   SentimentText  1578612 non-null  object\n",
      " 1   Sentiment      1578612 non-null  int64 \n",
      "dtypes: int64(1), object(1)\n",
      "memory usage: 24.1+ MB\n"
     ]
    }
   ],
   "source": [
    "data.info()"
   ]
  },
  {
   "cell_type": "code",
   "execution_count": 6,
   "id": "75af4487-1a23-4c72-b25f-35769ca03fab",
   "metadata": {},
   "outputs": [
    {
     "name": "stdout",
     "output_type": "stream",
     "text": [
      "Label counts:\n",
      " Sentiment\n",
      "1    790177\n",
      "0    788435\n",
      "Name: count, dtype: int64\n",
      "Label distribution:\n",
      " Sentiment\n",
      "1    0.500552\n",
      "0    0.499448\n",
      "Name: count, dtype: float64\n"
     ]
    },
    {
     "data": {
      "image/png": "[encoded data removed]",
      "text/plain": [
       "<Figure size 640x480 with 1 Axes>"
      ]
     },
     "metadata": {},
     "output_type": "display_data"
    }
   ],
   "source": [
    "# Distribution of labels\n",
    "label_counts = data['Sentiment'].value_counts()\n",
    "label_dist = label_counts / len(data)\n",
    "print(\"Label counts:\\n\", label_counts)\n",
    "print(\"Label distribution:\\n\", label_dist)\n",
    "\n",
    "# Plot\n",
    "label_counts.plot(kind='bar', title='Label Distribution')\n",
    "plt.show()"
   ]
  },
  {
   "cell_type": "code",
   "execution_count": 7,
   "id": "96ea3acb-786e-4d9d-9dd8-259d5b37c014",
   "metadata": {},
   "outputs": [
    {
     "name": "stdout",
     "output_type": "stream",
     "text": [
      "count    1.578612e+06\n",
      "mean     1.327305e+01\n",
      "std      6.914467e+00\n",
      "min      1.000000e+00\n",
      "25%      8.000000e+00\n",
      "50%      1.200000e+01\n",
      "75%      1.900000e+01\n",
      "max      6.400000e+01\n",
      "Name: text_len, dtype: float64\n"
     ]
    }
   ],
   "source": [
    "# Texts length stats\n",
    "data['text_len'] = data['SentimentText'].str.split().apply(len)\n",
    "print(data['text_len'].describe())"
   ]
  },
  {
   "cell_type": "code",
   "execution_count": 8,
   "id": "5a338df7-6568-444f-aac7-fe71741cf237",
   "metadata": {},
   "outputs": [
    {
     "name": "stdout",
     "output_type": "stream",
     "text": [
      "Top 20 words:\n"
     ]
    },
    {
     "data": {
      "text/plain": [
       "[('i', 951244),\n",
       " ('to', 561651),\n",
       " ('the', 521774),\n",
       " ('a', 380194),\n",
       " ('my', 313932),\n",
       " ('it', 303523),\n",
       " ('and', 302718),\n",
       " ('you', 299769),\n",
       " ('is', 236629),\n",
       " ('in', 215598),\n",
       " ('for', 215137),\n",
       " ('s', 187275),\n",
       " ('of', 183030),\n",
       " ('t', 181027),\n",
       " ('on', 167118),\n",
       " ('that', 165329),\n",
       " ('me', 164337),\n",
       " ('so', 152443),\n",
       " ('have', 144708),\n",
       " ('m', 136197)]"
      ]
     },
     "execution_count": 8,
     "metadata": {},
     "output_type": "execute_result"
    }
   ],
   "source": [
    "# Most common words\n",
    "def simple_tok(text):\n",
    "    return re.findall(r'\\w+', text.lower())\n",
    "\n",
    "all_tokens = [tok for text in data['SentimentText'] for tok in simple_tok(text)]\n",
    "common_words = Counter(all_tokens).most_common(20)\n",
    "print(\"Top 20 words:\")\n",
    "common_words"
   ]
  },
  {
   "cell_type": "code",
   "execution_count": 9,
   "id": "7b956871-25f3-47a9-9960-202a2fd69877",
   "metadata": {},
   "outputs": [
    {
     "name": "stdout",
     "output_type": "stream",
     "text": [
      "Sentiment\n",
      "0    13.713761\n",
      "1    12.833306\n",
      "Name: text_len, dtype: float64\n"
     ]
    }
   ],
   "source": [
    "# Class length differences\n",
    "print(data.groupby('Sentiment')['text_len'].mean())"
   ]
  }
 ],
 "metadata": {
  "kernelspec": {
   "display_name": "Python 3 (ipykernel)",
   "language": "python",
   "name": "python3"
  },
  "language_info": {
   "codemirror_mode": {
    "name": "ipython",
    "version": 3
   },
   "file_extension": ".py",
   "mimetype": "text/x-python",
   "name": "python",
   "nbconvert_exporter": "python",
   "pygments_lexer": "ipython3",
   "version": "3.10.18"
  }
 },
 "nbformat": 4,
 "nbformat_minor": 5
}
